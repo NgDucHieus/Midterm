{
 "cells": [
  {
   "cell_type": "code",
   "execution_count": 22,
   "id": "526f56d0-5e64-47ed-b747-5ee1e5312b9e",
   "metadata": {},
   "outputs": [],
   "source": [
    "import math\n",
    "\n",
    "# Bài 1 \n",
    "def is_prime(n):\n",
    "\n",
    "  if n <= 1: \n",
    "    return False\n",
    "  if n <= 3: \n",
    "    return True\n",
    "  if n % 2 == 0 or n % 3 == 0: # Loại bỏ các bội số của 2 và 3\n",
    "    return False\n",
    "\n",
    "  i = 5\n",
    "  while i * i <= n:\n",
    "    if n % i == 0 or n % (i + 2) == 0:\n",
    "      return False\n",
    "    i += 6\n",
    "  return True\n",
    "\n"
   ]
  },
  {
   "cell_type": "code",
   "execution_count": 23,
   "id": "24ecc58b-e838-4eb6-b53d-db00b34681fa",
   "metadata": {},
   "outputs": [
    {
     "data": {
      "text/plain": [
       "True"
      ]
     },
     "execution_count": 23,
     "metadata": {},
     "output_type": "execute_result"
    }
   ],
   "source": [
    "is_prime(11)"
   ]
  },
  {
   "cell_type": "code",
   "execution_count": 24,
   "id": "db767802-be9d-4180-94ae-e41da5c75a62",
   "metadata": {},
   "outputs": [],
   "source": [
    "# Bài 2: Tính giai thừa của một số\n",
    "def factorial(n):\n",
    "\n",
    "  if n < 0:\n",
    "    return \"số âm\"\n",
    "  elif n == 0: \n",
    "    return 1\n",
    "  else:\n",
    "    r = 1\n",
    "    for i in range(1, n + 1):\n",
    "      r *= i\n",
    "    return r\n",
    "\n"
   ]
  },
  {
   "cell_type": "code",
   "execution_count": 6,
   "id": "f082ffdc-dda3-44e1-ab7a-62217d48b884",
   "metadata": {},
   "outputs": [
    {
     "data": {
      "text/plain": [
       "3628800"
      ]
     },
     "execution_count": 6,
     "metadata": {},
     "output_type": "execute_result"
    }
   ],
   "source": [
    "factorial(10)"
   ]
  },
  {
   "cell_type": "code",
   "execution_count": 38,
   "id": "6b9335a0-a759-4b46-b1de-213cc76188c5",
   "metadata": {},
   "outputs": [],
   "source": [
    "# Bài 3: Bubble Sort\n",
    "def b_s(arr):\n",
    "  n = len(arr)\n",
    "  for i in range(n-1):\n",
    "    for j in range(n-i-1):\n",
    "        if arr[j] > arr[j+1]:\n",
    "           arr[j], arr[j+1] = arr[j+1], arr[j]\n",
    "           print(arr)\n",
    "  return arr\n",
    "\n"
   ]
  },
  {
   "cell_type": "code",
   "execution_count": 39,
   "id": "ea27e4a8-f12d-4b2a-800e-9df91f93e7f7",
   "metadata": {},
   "outputs": [
    {
     "name": "stdout",
     "output_type": "stream",
     "text": [
      "[1, 4, 6, 5, 7, 3, 2]\n",
      "[1, 4, 5, 6, 7, 3, 2]\n",
      "[1, 4, 5, 6, 3, 7, 2]\n",
      "[1, 4, 5, 6, 3, 2, 7]\n",
      "[1, 4, 5, 3, 6, 2, 7]\n",
      "[1, 4, 5, 3, 2, 6, 7]\n",
      "[1, 4, 3, 5, 2, 6, 7]\n",
      "[1, 4, 3, 2, 5, 6, 7]\n",
      "[1, 3, 4, 2, 5, 6, 7]\n",
      "[1, 3, 2, 4, 5, 6, 7]\n",
      "[1, 2, 3, 4, 5, 6, 7]\n"
     ]
    },
    {
     "data": {
      "text/plain": [
       "[1, 2, 3, 4, 5, 6, 7]"
      ]
     },
     "execution_count": 39,
     "metadata": {},
     "output_type": "execute_result"
    }
   ],
   "source": [
    "\n",
    "arr = [1,6,4,5,7,3,2]\n",
    "b_s(arr)"
   ]
  },
  {
   "cell_type": "code",
   "execution_count": 27,
   "id": "ff0563a7-a3ea-440f-b0e0-b37671adac63",
   "metadata": {},
   "outputs": [],
   "source": [
    "# Bài 4: Dãy Fibonacci bằng quy hoạch động\n",
    "def f_s_dp(n):\n",
    "\n",
    "  if n < 0:\n",
    "    print(\"số âm?\")\n",
    "    return []\n",
    "  elif n == 0:\n",
    "    return [0]\n",
    "  elif n == 1:\n",
    "    return [0, 1]\n",
    "  else:\n",
    "\n",
    "    fib_array = [0] * (n + 1)\n",
    "\n",
    "    fib_array[0] = 0\n",
    "    fib_array[1] = 1\n",
    "\n",
    "    for i in range(2, n + 1):\n",
    "      # F(i) = F(i-1) + F(i-2)\n",
    "      fib_array[i] = fib_array[i - 1] + fib_array[i - 2]\n",
    "    print(fib_array[n])\n",
    "\n",
    "    return fib_array"
   ]
  },
  {
   "cell_type": "code",
   "execution_count": 28,
   "id": "a6f6f540-2670-4c15-b97d-cd96261ae4db",
   "metadata": {},
   "outputs": [
    {
     "name": "stdout",
     "output_type": "stream",
     "text": [
      "55\n"
     ]
    },
    {
     "data": {
      "text/plain": [
       "[0, 1, 1, 2, 3, 5, 8, 13, 21, 34, 55]"
      ]
     },
     "execution_count": 28,
     "metadata": {},
     "output_type": "execute_result"
    }
   ],
   "source": [
    "f_s_dp(10)"
   ]
  }
 ],
 "metadata": {
  "kernelspec": {
   "display_name": "Python 3 (ipykernel)",
   "language": "python",
   "name": "python3"
  },
  "language_info": {
   "codemirror_mode": {
    "name": "ipython",
    "version": 3
   },
   "file_extension": ".py",
   "mimetype": "text/x-python",
   "name": "python",
   "nbconvert_exporter": "python",
   "pygments_lexer": "ipython3",
   "version": "3.12.7"
  }
 },
 "nbformat": 4,
 "nbformat_minor": 5
}
