{
 "cells": [
  {
   "cell_type": "code",
   "execution_count": 2,
   "id": "526f56d0-5e64-47ed-b747-5ee1e5312b9e",
   "metadata": {},
   "outputs": [],
   "source": [
    "import math\n",
    "\n",
    "# Bài 1 \n",
    "def is_prime(n):\n",
    "\n",
    "  if n <= 1: \n",
    "    return False\n",
    "  if n <= 3: \n",
    "    return True\n",
    "  if n % 2 == 0 or n % 3 == 0: # Loại bỏ các bội số của 2 và 3\n",
    "    return False\n",
    "\n",
    "  i = 5\n",
    "  while i * i <= n:\n",
    "    if n % i == 0 or n % (i + 2) == 0:\n",
    "      return False\n",
    "    i += 6\n",
    "  return True\n",
    "\n"
   ]
  },
  {
   "cell_type": "code",
   "execution_count": 4,
   "id": "24ecc58b-e838-4eb6-b53d-db00b34681fa",
   "metadata": {},
   "outputs": [
    {
     "data": {
      "text/plain": [
       "True"
      ]
     },
     "execution_count": 4,
     "metadata": {},
     "output_type": "execute_result"
    }
   ],
   "source": [
    "is_prime(11)"
   ]
  },
  {
   "cell_type": "code",
   "execution_count": null,
   "id": "db767802-be9d-4180-94ae-e41da5c75a62",
   "metadata": {},
   "outputs": [],
   "source": [
    "# Bài 2: Tính giai thừa của một số\n",
    "def factorial(n):\n",
    "  \"\"\"\n",
    "  Tính giai thừa của một số nguyên không âm n.\n",
    "\n",
    "  Args:\n",
    "    n: Một số nguyên không âm.\n",
    "\n",
    "  Returns:\n",
    "    Giai thừa của n (n!).\n",
    "  \"\"\"\n",
    "  if n < 0:\n",
    "    return \"Giai thừa không xác định cho số âm\"\n",
    "  elif n == 0: # Giai thừa của 0 là 1\n",
    "    return 1\n",
    "  else:\n",
    "    result = 1\n",
    "    for i in range(1, n + 1):\n",
    "      result *= i\n",
    "    return result\n",
    "\n"
   ]
  },
  {
   "cell_type": "code",
   "execution_count": null,
   "id": "6b9335a0-a759-4b46-b1de-213cc76188c5",
   "metadata": {},
   "outputs": [],
   "source": [
    "# Bài 3: Sắp xếp mảng bằng thuật toán Bubble Sort\n",
    "def bubble_sort(arr):\n",
    "  \"\"\"\n",
    "  Sắp xếp một mảng số nguyên theo thứ tự tăng dần bằng Bubble Sort.\n",
    "\n",
    "  Args:\n",
    "    arr: Một danh sách (list) các số nguyên.\n",
    "\n",
    "  Returns:\n",
    "    Danh sách đã được sắp xếp theo thứ tự tăng dần.\n",
    "    Lưu ý: Hàm này sửa đổi danh sách gốc.\n",
    "  \"\"\"\n",
    "  n = len(arr)\n",
    "  # Lặp qua tất cả các phần tử của mảng\n",
    "  for i in range(n):\n",
    "    # Biến swapped để kiểm tra xem có hoán đổi nào xảy ra trong lượt này không\n",
    "    # Nếu không có hoán đổi, mảng đã được sắp xếp\n",
    "    swapped = False\n",
    "    # Các phần tử cuối cùng sau mỗi lượt đã ở đúng vị trí\n",
    "    for j in range(0, n - i - 1):\n",
    "      # So sánh hai phần tử liền kề\n",
    "      if arr[j] > arr[j + 1]:\n",
    "        # Hoán đổi nếu phần tử bên trái lớn hơn phần tử bên phải\n",
    "        arr[j], arr[j + 1] = arr[j + 1], arr[j]\n",
    "        swapped = True\n",
    "    # Nếu không có hoán đổi nào trong lượt lặp bên trong, thoát vòng lặp\n",
    "    if not swapped:\n",
    "      break\n",
    "  return arr\n",
    "\n"
   ]
  },
  {
   "cell_type": "code",
   "execution_count": null,
   "id": "ff0563a7-a3ea-440f-b0e0-b37671adac63",
   "metadata": {},
   "outputs": [],
   "source": [
    "# Bài 4: Dãy Fibonacci bằng quy hoạch động (memoization)\n",
    "def fibonacci_dynamic(n):\n",
    "  \"\"\"\n",
    "  Tính số Fibonacci thứ n bằng quy hoạch động (sử dụng memoization).\n",
    "\n",
    "  Args:\n",
    "    n: Chỉ số của số Fibonacci cần tính (bắt đầu từ 0).\n",
    "\n",
    "  Returns:\n",
    "    Số Fibonacci thứ n.\n",
    "  \"\"\"\n",
    "  if n < 0:\n",
    "    return \"Chỉ số không hợp lệ (phải là số không âm)\"\n",
    "  # Tạo một mảng (hoặc dictionary) để lưu các kết quả đã tính\n",
    "  # Kích thước n+1 để lưu từ F(0) đến F(n)\n",
    "  memo = {}\n",
    "\n",
    "  def fib_recursive_memo(k):\n",
    "    # Nếu giá trị đã có trong memo, trả về nó\n",
    "    if k in memo:\n",
    "      return memo[k]\n",
    "    # Các trường hợp cơ bản\n",
    "    if k == 0:\n",
    "      return 0\n",
    "    if k == 1:\n",
    "      return 1\n",
    "    # Tính toán đệ quy và lưu kết quả vào memo trước khi trả về\n",
    "    memo[k] = fib_recursive_memo(k - 1) + fib_recursive_memo(k - 2)\n",
    "    return memo[k]\n",
    "\n",
    "  return fib_recursive_memo(n)\n",
    "\n",
    "# --- Ví dụ sử dụng các hàm ---\n",
    "\n",
    "# Bài 1\n",
    "num1 = 17\n",
    "num2 = 18\n",
    "print(f\"Bài 1: {num1} là số nguyên tố? {is_prime(num1)}\")\n",
    "print(f\"Bài 1: {num2} là số nguyên tố? {is_prime(num2)}\")\n",
    "\n",
    "# Bài 2\n",
    "num_fact = 5\n",
    "print(f\"\\nBài 2: Giai thừa của {"
   ]
  }
 ],
 "metadata": {
  "kernelspec": {
   "display_name": "Python 3 (ipykernel)",
   "language": "python",
   "name": "python3"
  },
  "language_info": {
   "codemirror_mode": {
    "name": "ipython",
    "version": 3
   },
   "file_extension": ".py",
   "mimetype": "text/x-python",
   "name": "python",
   "nbconvert_exporter": "python",
   "pygments_lexer": "ipython3",
   "version": "3.12.7"
  }
 },
 "nbformat": 4,
 "nbformat_minor": 5
}
